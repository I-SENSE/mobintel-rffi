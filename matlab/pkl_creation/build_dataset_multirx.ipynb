{
 "cells": [
  {
   "cell_type": "code",
   "execution_count": 61,
   "metadata": {},
   "outputs": [],
   "source": [
    "import numpy as np\n",
    "import pickle\n",
    "import scipy.io\n",
    "import os"
   ]
  },
  {
   "cell_type": "code",
   "execution_count": 65,
   "metadata": {},
   "outputs": [],
   "source": [
    "MIN_FRAMES = 500\n",
    "PKT_LEN = 400\n",
    "DIR_SOURCE = '/Users/stepanmazokha/Desktop/wisig_frames_rffi_dataset/node1-1/equalized_packets_min1000frames/'\n",
    "FILE_TARGET = '/Users/stepanmazokha/Desktop/wisig_frames_rffi_dataset/node1-1/node1-1.pkl'"
   ]
  },
  {
   "cell_type": "code",
   "execution_count": 67,
   "metadata": {},
   "outputs": [],
   "source": [
    "def process_save_rx(dir_source, file_target, frame_threshold, pkt_len):\n",
    "    data_non_eq = []\n",
    "    data_eq = []\n",
    "    node_list = [] \n",
    "\n",
    "    # Work trough each TX file with frames\n",
    "    for fname in os.listdir(dir_source):\n",
    "        f = scipy.io.loadmat(dir_source + fname, verify_compressed_data_integrity=False)\n",
    "        \n",
    "        # Retrieve the list of frames; each item is a cell, containing two vectors: non-eq & eq IQ samples\n",
    "        frames = f['packet_log'][0]\n",
    "        node_name = fname[8:-4]\n",
    "\n",
    "        # Don't process the file if not enough frames inside\n",
    "        if len(frames) < frame_threshold:\n",
    "            print(node_name,'Eliminated')\n",
    "            continue\n",
    "        # else: print(node_name, 'Processing')\n",
    "        \n",
    "        data_i_non_eq = np.zeros((frames.size, pkt_len, 2), dtype='float32')\n",
    "        data_i_eq = np.zeros((frames.size, pkt_len, 2), dtype='float32')\n",
    "\n",
    "        for frame_idx in np.arange(len(frames)):\n",
    "            # Separately save real & iamginary parts of IQ samples for both non-equalized & equalized versions\n",
    "            data_i_non_eq[frame_idx, :, 0] = np.real(frames[0][:, 0])\n",
    "            data_i_non_eq[frame_idx, :, 1] = np.imag(frames[0][:, 0])\n",
    "\n",
    "            data_i_eq[frame_idx, :, 0] = np.real(frames[0][:, 1])\n",
    "            data_i_eq[frame_idx, :, 1] = np.imag(frames[0][:, 1])\n",
    "                \n",
    "        data_non_eq.append(data_i_non_eq)\n",
    "        data_eq.append(data_i_eq)\n",
    "        node_list.append(node_name)\n",
    "\n",
    "    with open(file_target,'wb') as f:\n",
    "        pickle.dump({\n",
    "            'data_non_eq': data_non_eq,\n",
    "            'data_eq': data_eq,\n",
    "            'node_list': node_list\n",
    "        },f)\n",
    "\n",
    "    return [data_non_eq, data_eq, node_list]\n",
    "\n",
    "data_non_eq, data_eq, node_list = process_save_rx(DIR_SOURCE, FILE_TARGET, MIN_FRAMES, PKT_LEN)"
   ]
  },
  {
   "cell_type": "code",
   "execution_count": null,
   "metadata": {},
   "outputs": [],
   "source": []
  }
 ],
 "metadata": {
  "kernelspec": {
   "display_name": "Python 3",
   "language": "python",
   "name": "python3"
  },
  "language_info": {
   "codemirror_mode": {
    "name": "ipython",
    "version": 3
   },
   "file_extension": ".py",
   "mimetype": "text/x-python",
   "name": "python",
   "nbconvert_exporter": "python",
   "pygments_lexer": "ipython3",
   "version": "3.10.12"
  }
 },
 "nbformat": 4,
 "nbformat_minor": 4
}
